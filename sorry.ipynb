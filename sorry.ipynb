{
 "cells": [
  {
   "cell_type": "code",
   "execution_count": 1,
   "metadata": {
    "collapsed": true
   },
   "outputs": [],
   "source": [
    "import pathlib\n",
    "import imageio\n",
    "import numpy as np\n",
    "\n",
    "training_paths = pathlib.Path('D:/Projects/starik/stage1_train').glob('*/images/*.png')\n",
    "training_sorted = sorted([x for x in training_paths])\n",
    "im_path = training_sorted[45]\n",
    "im = imageio.imread(str(im_path))"
   ]
  },
  {
   "cell_type": "code",
   "execution_count": 3,
   "metadata": {},
   "outputs": [
    {
     "name": "stdout",
     "output_type": "stream",
     "text": [
      "Original image shape: (520, 696, 4)\nNew image shape: (520, 696)\n"
     ]
    }
   ],
   "source": [
    "print('Original image shape: {}'.format(im.shape))\n",
    "\n",
    "from skimage.color import rgb2gray\n",
    "im_gray = rgb2gray(im)\n",
    "print('New image shape: {}'.format(im_gray.shape))"
   ]
  },
  {
   "cell_type": "code",
   "execution_count": 4,
   "metadata": {},
   "outputs": [],
   "source": [
    "import matplotlib.pyplot as plt\n",
    "\n",
    "plt.figure(figsize=(10, 4))\n",
    "\n",
    "plt.subplot(1, 2, 1)\n",
    "plt.imshow(im)\n",
    "plt.axis('off')\n",
    "plt.title('Original Image')\n",
    "\n",
    "plt.subplot(1, 2, 2)\n",
    "plt.imshow(im_gray, cmap='gray')\n",
    "plt.axis('off')\n",
    "plt.title('Grayscale')\n",
    "\n",
    "plt.tight_layout()\n",
    "plt.show()\n"
   ]
  },
  {
   "cell_type": "code",
   "execution_count": 5,
   "metadata": {},
   "outputs": [],
   "source": [
    "from skimage.filters import threshold_otsu\n",
    "\n",
    "thresh_val = threshold_otsu(im_gray)\n",
    "mask = np.where(im_gray > thresh_val, 1, 0)\n",
    "\n",
    "if np.sum(mask == 0) < np.sum(mask == 1):\n",
    "    mask = np.where(mask, 0, 1)\n"
   ]
  },
  {
   "cell_type": "code",
   "execution_count": 6,
   "metadata": {},
   "outputs": [],
   "source": [
    "plt.figure(figsize=(10, 4))\n",
    "\n",
    "plt.subplot(1, 2, 1)\n",
    "im_pixels = im_gray.flatten()\n",
    "plt.hist(im_pixels, bins=50)\n",
    "plt.vlines(thresh_val, 0, 100000, linestyle='--')\n",
    "plt.ylim([0, 50000])\n",
    "plt.title('Histogram')\n",
    "\n",
    "plt.subplot(1, 2, 2)\n",
    "mask_for_display = np.where(mask, mask, np.nan)\n",
    "plt.imshow(im_gray, cmap='gray')\n",
    "plt.imshow(mask_for_display, cmap='rainbow', alpha=0.5)\n",
    "plt.axis('off')\n",
    "plt.title('Masked')\n",
    "\n",
    "plt.show()\n"
   ]
  },
  {
   "cell_type": "code",
   "execution_count": 7,
   "metadata": {},
   "outputs": [
    {
     "name": "stdout",
     "output_type": "stream",
     "text": [
      "76 objects was found.\n"
     ]
    }
   ],
   "source": [
    "from scipy import ndimage\n",
    "labels, nlabels = ndimage.label(mask)\n",
    "\n",
    "label_arrays = []\n",
    "for label_num in range(1, nlabels+1):\n",
    "    label_mask = np.where(labels == label_num, 1, 0)\n",
    "    label_arrays.append(label_mask)\n",
    "\n",
    "print('{} objects was found.'.format(nlabels))"
   ]
  },
  {
   "cell_type": "code",
   "execution_count": 8,
   "metadata": {},
   "outputs": [],
   "source": [
    "from matplotlib.colors import ListedColormap\n",
    "\n",
    "color_map = ListedColormap(np.random.rand(256, 3))\n",
    "\n",
    "labels_for_display = np.where(labels > 0, labels, np.nan)\n",
    "plt.imshow(im_gray, cmap='gray')\n",
    "plt.imshow(labels_for_display, cmap=color_map)\n",
    "plt.axis('off')\n",
    "plt.title('Separate cells ({} nuclei)'.format(nlabels))\n",
    "plt.show()\n"
   ]
  },
  {
   "cell_type": "code",
   "execution_count": 9,
   "metadata": {},
   "outputs": [
    {
     "name": "stdout",
     "output_type": "stream",
     "text": [
      "Dropping label 4. Too small.\nDropping label 5. Too small.\nDropping label 7. Too small.\nDropping label 8. Too small.\nDropping label 9. Too small.\nDropping label 10. Too small.\nDropping label 14. Too small.\nDropping label 15. Too small.\nDropping label 16. Too small.\nDropping label 19. Too small.\nDropping label 21. Too small.\nDropping label 22. Too small.\nDropping label 23. Too small.\nDropping label 60. Too small.\nDropping label 61. Too small.\nDropping label 72. Too small.\nThere are now 60 separate components / objects detected.\n"
     ]
    }
   ],
   "source": [
    "for label_ind, label_coords in enumerate(ndimage.find_objects(labels)):\n",
    "    cell = im_gray[label_coords]\n",
    "    \n",
    "    if np.product(cell.shape) < 10: \n",
    "        print('Dropping label {}. Too small.'.format(label_ind))\n",
    "        mask = np.where(labels==label_ind+1, 0, mask)\n",
    "\n",
    "labels, nlabels = ndimage.label(mask)\n",
    "print('There are now {} separate components / objects detected.'.format(nlabels))\n"
   ]
  },
  {
   "cell_type": "code",
   "execution_count": 10,
   "metadata": {},
   "outputs": [],
   "source": [
    "fig, axes = plt.subplots(1, 6, figsize=(10, 6))\n",
    "\n",
    "for ii, obj_indices in enumerate(ndimage.find_objects(labels)[0:6]):\n",
    "    cell = im_gray[obj_indices]\n",
    "    axes[ii].imshow(cell, cmap='gray')\n",
    "    axes[ii].axis('off')\n",
    "    axes[ii].set_title('Label #{}\\nSize: {}'.format(ii + 1, cell.shape))\n",
    "\n",
    "plt.tight_layout()\n",
    "plt.show()\n"
   ]
  },
  {
   "cell_type": "code",
   "execution_count": 11,
   "metadata": {},
   "outputs": [],
   "source": [
    "two_cell_indices = ndimage.find_objects(labels)[1]\n",
    "cell_mask = mask[two_cell_indices]\n",
    "cell_mask_opened = ndimage.binary_opening(cell_mask, iterations=8)\n"
   ]
  },
  {
   "cell_type": "code",
   "execution_count": 12,
   "metadata": {},
   "outputs": [],
   "source": [
    "fig, axes = plt.subplots(1,4, figsize=(12,4))\n",
    "\n",
    "axes[0].imshow(im_gray[two_cell_indices], cmap='gray')\n",
    "axes[0].set_title('Original object')\n",
    "axes[1].imshow(mask[two_cell_indices], cmap='gray')\n",
    "axes[1].set_title('Original mask')\n",
    "axes[2].imshow(cell_mask_opened, cmap='gray')\n",
    "axes[2].set_title('Opened mask')\n",
    "axes[3].imshow(im_gray[two_cell_indices]*cell_mask_opened, cmap='gray')\n",
    "axes[3].set_title('Opened object')\n",
    "\n",
    "\n",
    "for ax in axes:\n",
    "    ax.axis('off')\n",
    "plt.tight_layout()\n",
    "plt.show()"
   ]
  },
  {
   "cell_type": "code",
   "execution_count": 13,
   "metadata": {},
   "outputs": [
    {
     "name": "stdout",
     "output_type": "stream",
     "text": [
      "RLE Encoding for the current mask is: 210075 6 210593 8 211112 9 211631 10 212150 11 212669 12 213189 12 213709 12 214228 13 214748 13 215268 13 215788 13 216308 13 216828 13 217348 13 217869 12 218389 12 218909 12 219430 11 219950 11 220471 10 220991 10 221512 9 222033 8 222554 7 223075 6 223596 5 224117 4 224639 2\n"
     ]
    }
   ],
   "source": [
    "def rle_encoding(x):\n",
    "    dots = np.where(x.T.flatten()==1)[0] # .T sets Fortran order down-then-right\n",
    "    run_lengths = []\n",
    "    prev = -2\n",
    "    for b in dots:\n",
    "        if (b > prev + 1): run_lengths.extend((b+1, 0))\n",
    "        run_lengths[-1] += 1\n",
    "        prev = b\n",
    "    return \" \".join([str(i) for i in run_lengths])\n",
    "\n",
    "print('RLE Encoding for the current mask is: {}'.format(rle_encoding(label_mask)))"
   ]
  },
  {
   "cell_type": "code",
   "execution_count": 14,
   "metadata": {},
   "outputs": [],
   "source": [
    "import pandas as pd\n",
    "\n",
    "def analyze_image(im_path):\n",
    "    im_id = im_path.parts[-3]\n",
    "    im = imageio.imread(str(im_path))\n",
    "    im_gray = rgb2gray(im)\n",
    "    \n",
    "    thresh_val = threshold_otsu(im_gray)\n",
    "    mask = np.where(im_gray > thresh_val, 1, 0)\n",
    "    if np.sum(mask==0) < np.sum(mask==1):\n",
    "        mask = np.where(mask, 0, 1)    \n",
    "        labels, nlabels = ndimage.label(mask)\n",
    "    labels, nlabels = ndimage.label(mask)\n",
    "    \n",
    "    im_df = pd.DataFrame()\n",
    "    for label_num in range(1, nlabels+1):\n",
    "        label_mask = np.where(labels == label_num, 1, 0)\n",
    "        if label_mask.flatten().sum() > 10:\n",
    "            rle = rle_encoding(label_mask)\n",
    "            s = pd.Series({'ImageId': im_id, 'EncodedPixels': rle})\n",
    "            im_df = im_df.append(s, ignore_index=True)\n",
    "    \n",
    "    return im_df\n",
    "\n",
    "\n",
    "def analyze_list_of_images(im_path_list):\n",
    "    all_df = pd.DataFrame()\n",
    "    for im_path in im_path_list:\n",
    "        im_df = analyze_image(im_path)\n",
    "        all_df = all_df.append(im_df, ignore_index=True)\n",
    "    \n",
    "    return all_df"
   ]
  },
  {
   "cell_type": "code",
   "execution_count": 15,
   "metadata": {},
   "outputs": [],
   "source": [
    "testing = pathlib.Path('D:/Projects/starik/stage1_test').glob('*/images/*.png')\n",
    "df = analyze_list_of_images(list(testing))\n",
    "df.to_csv('submission.csv', index=None)"
   ]
  },
  {
   "cell_type": "code",
   "execution_count": 17,
   "metadata": {},
   "outputs": [],
   "source": [
    "import cv2\n",
    "import math\n",
    "import os\n",
    "import json"
   ]
  },
  {
   "cell_type": "code",
   "execution_count": 18,
   "metadata": {},
   "outputs": [],
   "source": [
    "TRAIN_PATH = 'D:/Projects/starik/stage1_train'\n",
    "TEST_PATH = 'D:/Projects/starik/stage1_test'\n",
    "\n",
    "RANDOM_SEED = 75\n",
    "\n",
    "OUTPUT_PATH = 'D:/Projects/starik/Output'\n",
    "CONTOUR_EXTRACT_MODE = cv2.RETR_TREE\n"
   ]
  },
  {
   "cell_type": "code",
   "execution_count": 19,
   "metadata": {},
   "outputs": [],
   "source": [
    "train_ids = [x for x in os.listdir(TRAIN_PATH)]\n",
    "test_ids = [x for x in os.listdir(TEST_PATH)]"
   ]
  },
  {
   "cell_type": "code",
   "execution_count": 20,
   "metadata": {},
   "outputs": [
    {
     "name": "stdout",
     "output_type": "stream",
     "text": [
      "                id\ntrain_or_test     \ntest            65\ntrain          670\n"
     ]
    }
   ],
   "source": [
    "df2 = pd.DataFrame({'id': train_ids, 'train_or_test': 'train'})\n",
    "df2= df2.append(pd.DataFrame({'id': test_ids, 'train_or_test': 'test'}))\n",
    "\n",
    "print(df2.groupby(['train_or_test']).count())"
   ]
  },
  {
   "cell_type": "code",
   "execution_count": 21,
   "metadata": {},
   "outputs": [],
   "source": [
    "df2['path'] = df2.apply(lambda x: 'D:/Projects/starik/stage1_{}/{}/images/{}.png'.format(x[1], x[0], x[0]), axis=1)"
   ]
  },
  {
   "cell_type": "code",
   "execution_count": 22,
   "metadata": {},
   "outputs": [],
   "source": [
    "from sklearn.cluster import KMeans\n",
    "\n",
    "def centroid_histogram(clt):\n",
    "    numLabels = np.arange(0, len(np.unique(clt.labels_)) + 1)\n",
    "    (hist, _) = np.histogram(clt.labels_, bins=numLabels)\n",
    "\n",
    "    hist = hist.astype(\"float\")\n",
    "    hist /= hist.sum()\n",
    "\n",
    "    return hist\n"
   ]
  },
  {
   "cell_type": "code",
   "execution_count": 23,
   "metadata": {},
   "outputs": [],
   "source": [
    "def get_image_info(path, clusters=2):\n",
    "    image = cv2.imread(path)\n",
    "    height, width, _ = image.shape\n",
    "    image = cv2.cvtColor(image, cv2.COLOR_BGRA2RGB)\n",
    "    image = image.reshape((image.shape[0] * image.shape[1], 3))\n",
    "    clt = KMeans(n_clusters=clusters)\n",
    "    clt.fit(image)\n",
    "    hist = centroid_histogram(clt)\n",
    "\n",
    "    bg_idx, fg_idx = 0, clusters - 1\n",
    "    if hist[bg_idx] < hist[fg_idx]:\n",
    "        bg_idx, fg_idx = clusters - 1, 0\n",
    "\n",
    "    bg_red, bg_green, bg_blue = clt.cluster_centers_[bg_idx]\n",
    "    fg_red, fg_green, fg_blue = clt.cluster_centers_[fg_idx]\n",
    "\n",
    "    bg_color = sum(clt.cluster_centers_[bg_idx]) / 3\n",
    "    fg_color = sum(clt.cluster_centers_[fg_idx]) / 3\n",
    "    max_color_pct = hist[bg_idx]\n",
    "    min_color_pct = hist[fg_idx]\n",
    "\n",
    "    return (pd.Series([height, width,\n",
    "                       bg_red, bg_green, bg_blue, bg_color,\n",
    "                       fg_red, fg_green, fg_blue, fg_color,\n",
    "                       hist[bg_idx], hist[fg_idx],\n",
    "                       fg_color < bg_color]))"
   ]
  },
  {
   "cell_type": "code",
   "execution_count": 47,
   "metadata": {},
   "outputs": [],
   "source": [
    "image_info = os.path.join(OUTPUT_PATH, 'info.csv')\n",
    "\n",
    "if os.path.isfile(image_info):\n",
    "    with open(image_info, 'r') as datafile:\n",
    "        data = json.load(datafile)\n",
    "        df = pd.read_json(path_or_buf=data, orient='records')\n",
    "        data = None\n",
    "else:\n",
    "    names = ['height', 'width',\n",
    "             'bg_red', 'bg_green', 'bg_blue', 'bg_color',\n",
    "             'fg_red', 'fg_green', 'fg_blue', 'fg_color',\n",
    "             'bg_color_pct', 'fg_color_pct', 'invert']\n",
    "\n",
    "    df[names] = df['path'].apply(lambda x: get_image_info(x))\n",
    "    df['shape'] = df[['height', 'width']].apply(lambda x: '{:04d}x{:04d}'.format(x[0], x[1]), axis=1)\n",
    "\n",
    "    with open(image_info, 'w') as outfile:\n",
    "        json.dump(df.to_json(orient='records'), outfile)\n"
   ]
  },
  {
   "cell_type": "code",
   "execution_count": null,
   "metadata": {},
   "outputs": [],
   "source": []
  }
 ],
 "metadata": {
  "kernelspec": {
   "display_name": "Python 2",
   "language": "python",
   "name": "python2"
  },
  "language_info": {
   "codemirror_mode": {
    "name": "ipython",
    "version": 2
   },
   "file_extension": ".py",
   "mimetype": "text/x-python",
   "name": "python",
   "nbconvert_exporter": "python",
   "pygments_lexer": "ipython2",
   "version": "2.7.6"
  }
 },
 "nbformat": 4,
 "nbformat_minor": 0
}
