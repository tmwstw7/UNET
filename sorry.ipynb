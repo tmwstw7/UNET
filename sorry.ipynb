{
 "cells": [
  {
   "cell_type": "code",
   "execution_count": 1,
   "metadata": {
    "collapsed": true
   },
   "outputs": [],
   "source": [
    "import pathlib\n",
    "import imageio\n",
    "import numpy as np\n",
    "\n",
    "training_paths = pathlib.Path('D:/Projects/starik/stage1_train').glob('*/images/*.png')\n",
    "training_sorted = sorted([x for x in training_paths])\n",
    "im_path = training_sorted[45]\n",
    "im = imageio.imread(str(im_path))"
   ]
  },
  {
   "cell_type": "code",
   "execution_count": 3,
   "metadata": {},
   "outputs": [
    {
     "name": "stdout",
     "output_type": "stream",
     "text": [
      "Original image shape: (520, 696, 4)\nNew image shape: (520, 696)\n"
     ]
    }
   ],
   "source": [
    "print('Original image shape: {}'.format(im.shape))\n",
    "\n",
    "from skimage.color import rgb2gray\n",
    "im_gray = rgb2gray(im)\n",
    "print('New image shape: {}'.format(im_gray.shape))"
   ]
  },
  {
   "cell_type": "code",
   "execution_count": 4,
   "metadata": {},
   "outputs": [],
   "source": [
    "import matplotlib.pyplot as plt\n",
    "\n",
    "plt.figure(figsize=(10, 4))\n",
    "\n",
    "plt.subplot(1, 2, 1)\n",
    "plt.imshow(im)\n",
    "plt.axis('off')\n",
    "plt.title('Original Image')\n",
    "\n",
    "plt.subplot(1, 2, 2)\n",
    "plt.imshow(im_gray, cmap='gray')\n",
    "plt.axis('off')\n",
    "plt.title('Grayscale')\n",
    "\n",
    "plt.tight_layout()\n",
    "plt.show()\n"
   ]
  },
  {
   "cell_type": "code",
   "execution_count": 5,
   "metadata": {},
   "outputs": [],
   "source": [
    "from skimage.filters import threshold_otsu\n",
    "\n",
    "thresh_val = threshold_otsu(im_gray)\n",
    "mask = np.where(im_gray > thresh_val, 1, 0)\n",
    "\n",
    "if np.sum(mask == 0) < np.sum(mask == 1):\n",
    "    mask = np.where(mask, 0, 1)\n"
   ]
  },
  {
   "cell_type": "code",
   "execution_count": 6,
   "metadata": {},
   "outputs": [],
   "source": [
    "plt.figure(figsize=(10, 4))\n",
    "\n",
    "plt.subplot(1, 2, 1)\n",
    "im_pixels = im_gray.flatten()\n",
    "plt.hist(im_pixels, bins=50)\n",
    "plt.vlines(thresh_val, 0, 100000, linestyle='--')\n",
    "plt.ylim([0, 50000])\n",
    "plt.title('Histogram')\n",
    "\n",
    "plt.subplot(1, 2, 2)\n",
    "mask_for_display = np.where(mask, mask, np.nan)\n",
    "plt.imshow(im_gray, cmap='gray')\n",
    "plt.imshow(mask_for_display, cmap='rainbow', alpha=0.5)\n",
    "plt.axis('off')\n",
    "plt.title('Masked')\n",
    "\n",
    "plt.show()\n"
   ]
  },
  {
   "cell_type": "code",
   "execution_count": 7,
   "metadata": {},
   "outputs": [
    {
     "name": "stdout",
     "output_type": "stream",
     "text": [
      "76 objects was found.\n"
     ]
    }
   ],
   "source": [
    "from scipy import ndimage\n",
    "labels, nlabels = ndimage.label(mask)\n",
    "\n",
    "label_arrays = []\n",
    "for label_num in range(1, nlabels+1):\n",
    "    label_mask = np.where(labels == label_num, 1, 0)\n",
    "    label_arrays.append(label_mask)\n",
    "\n",
    "print('{} objects was found.'.format(nlabels))"
   ]
  },
  {
   "cell_type": "code",
   "execution_count": 8,
   "metadata": {},
   "outputs": [],
   "source": [
    "from matplotlib.colors import ListedColormap\n",
    "\n",
    "color_map = ListedColormap(np.random.rand(256, 3))\n",
    "\n",
    "labels_for_display = np.where(labels > 0, labels, np.nan)\n",
    "plt.imshow(im_gray, cmap='gray')\n",
    "plt.imshow(labels_for_display, cmap=color_map)\n",
    "plt.axis('off')\n",
    "plt.title('Separate cells ({} nuclei)'.format(nlabels))\n",
    "plt.show()\n"
   ]
  },
  {
   "cell_type": "code",
   "execution_count": 9,
   "metadata": {},
   "outputs": [
    {
     "name": "stdout",
     "output_type": "stream",
     "text": [
      "Dropping label 4. Too small.\nDropping label 5. Too small.\nDropping label 7. Too small.\nDropping label 8. Too small.\nDropping label 9. Too small.\nDropping label 10. Too small.\nDropping label 14. Too small.\nDropping label 15. Too small.\nDropping label 16. Too small.\nDropping label 19. Too small.\nDropping label 21. Too small.\nDropping label 22. Too small.\nDropping label 23. Too small.\nDropping label 60. Too small.\nDropping label 61. Too small.\nDropping label 72. Too small.\nThere are now 60 separate components / objects detected.\n"
     ]
    }
   ],
   "source": [
    "for label_ind, label_coords in enumerate(ndimage.find_objects(labels)):\n",
    "    cell = im_gray[label_coords]\n",
    "    \n",
    "    if np.product(cell.shape) < 10: \n",
    "        print('Dropping label {}. Too small.'.format(label_ind))\n",
    "        mask = np.where(labels==label_ind+1, 0, mask)\n",
    "\n",
    "labels, nlabels = ndimage.label(mask)\n",
    "print('There are now {} separate components / objects detected.'.format(nlabels))\n"
   ]
  },
  {
   "cell_type": "code",
   "execution_count": 10,
   "metadata": {},
   "outputs": [],
   "source": [
    "fig, axes = plt.subplots(1, 6, figsize=(10, 6))\n",
    "\n",
    "for ii, obj_indices in enumerate(ndimage.find_objects(labels)[0:6]):\n",
    "    cell = im_gray[obj_indices]\n",
    "    axes[ii].imshow(cell, cmap='gray')\n",
    "    axes[ii].axis('off')\n",
    "    axes[ii].set_title('Label #{}\\nSize: {}'.format(ii + 1, cell.shape))\n",
    "\n",
    "plt.tight_layout()\n",
    "plt.show()\n"
   ]
  },
  {
   "cell_type": "code",
   "execution_count": 11,
   "metadata": {},
   "outputs": [],
   "source": [
    "two_cell_indices = ndimage.find_objects(labels)[1]\n",
    "cell_mask = mask[two_cell_indices]\n",
    "cell_mask_opened = ndimage.binary_opening(cell_mask, iterations=8)\n"
   ]
  },
  {
   "cell_type": "code",
   "execution_count": 12,
   "metadata": {},
   "outputs": [],
   "source": [
    "fig, axes = plt.subplots(1,4, figsize=(12,4))\n",
    "\n",
    "axes[0].imshow(im_gray[two_cell_indices], cmap='gray')\n",
    "axes[0].set_title('Original object')\n",
    "axes[1].imshow(mask[two_cell_indices], cmap='gray')\n",
    "axes[1].set_title('Original mask')\n",
    "axes[2].imshow(cell_mask_opened, cmap='gray')\n",
    "axes[2].set_title('Opened mask')\n",
    "axes[3].imshow(im_gray[two_cell_indices]*cell_mask_opened, cmap='gray')\n",
    "axes[3].set_title('Opened object')\n",
    "\n",
    "\n",
    "for ax in axes:\n",
    "    ax.axis('off')\n",
    "plt.tight_layout()\n",
    "plt.show()"
   ]
  },
  {
   "cell_type": "code",
   "execution_count": 13,
   "metadata": {},
   "outputs": [
    {
     "name": "stdout",
     "output_type": "stream",
     "text": [
      "RLE Encoding for the current mask is: 210075 6 210593 8 211112 9 211631 10 212150 11 212669 12 213189 12 213709 12 214228 13 214748 13 215268 13 215788 13 216308 13 216828 13 217348 13 217869 12 218389 12 218909 12 219430 11 219950 11 220471 10 220991 10 221512 9 222033 8 222554 7 223075 6 223596 5 224117 4 224639 2\n"
     ]
    }
   ],
   "source": [
    "def rle_encoding(x):\n",
    "    dots = np.where(x.T.flatten()==1)[0] # .T sets Fortran order down-then-right\n",
    "    run_lengths = []\n",
    "    prev = -2\n",
    "    for b in dots:\n",
    "        if (b > prev + 1): run_lengths.extend((b+1, 0))\n",
    "        run_lengths[-1] += 1\n",
    "        prev = b\n",
    "    return \" \".join([str(i) for i in run_lengths])\n",
    "\n",
    "print('RLE Encoding for the current mask is: {}'.format(rle_encoding(label_mask)))"
   ]
  },
  {
   "cell_type": "code",
   "execution_count": 14,
   "metadata": {},
   "outputs": [],
   "source": [
    "import pandas as pd\n",
    "\n",
    "def analyze_image(im_path):\n",
    "    im_id = im_path.parts[-3]\n",
    "    im = imageio.imread(str(im_path))\n",
    "    im_gray = rgb2gray(im)\n",
    "    \n",
    "    thresh_val = threshold_otsu(im_gray)\n",
    "    mask = np.where(im_gray > thresh_val, 1, 0)\n",
    "    if np.sum(mask==0) < np.sum(mask==1):\n",
    "        mask = np.where(mask, 0, 1)    \n",
    "        labels, nlabels = ndimage.label(mask)\n",
    "    labels, nlabels = ndimage.label(mask)\n",
    "    \n",
    "    im_df = pd.DataFrame()\n",
    "    for label_num in range(1, nlabels+1):\n",
    "        label_mask = np.where(labels == label_num, 1, 0)\n",
    "        if label_mask.flatten().sum() > 10:\n",
    "            rle = rle_encoding(label_mask)\n",
    "            s = pd.Series({'ImageId': im_id, 'EncodedPixels': rle})\n",
    "            im_df = im_df.append(s, ignore_index=True)\n",
    "    \n",
    "    return im_df\n",
    "\n",
    "\n",
    "def analyze_list_of_images(im_path_list):\n",
    "    all_df = pd.DataFrame()\n",
    "    for im_path in im_path_list:\n",
    "        im_df = analyze_image(im_path)\n",
    "        all_df = all_df.append(im_df, ignore_index=True)\n",
    "    \n",
    "    return all_df"
   ]
  },
  {
   "cell_type": "code",
   "execution_count": 15,
   "metadata": {},
   "outputs": [],
   "source": [
    "testing = pathlib.Path('D:/Projects/starik/stage1_test').glob('*/images/*.png')\n",
    "df = analyze_list_of_images(list(testing))\n",
    "df.to_csv('RLE.csv', index=None)"
   ]
  },
  {
   "cell_type": "code",
   "execution_count": 41,
   "metadata": {},
   "outputs": [],
   "source": [
    "import cv2\n",
    "import math\n",
    "import os\n",
    "import json"
   ]
  },
  {
   "cell_type": "code",
   "execution_count": 42,
   "metadata": {},
   "outputs": [],
   "source": [
    "TRAIN_PATH = 'D:/Projects/starik/stage1_train'\n",
    "TEST_PATH = 'D:/Projects/starik/stage1_test'\n",
    "\n",
    "RANDOM_SEED = 75\n",
    "\n",
    "CONTOUR_EXTRACT_MODE = cv2.RETR_TREE\n"
   ]
  },
  {
   "cell_type": "code",
   "execution_count": 43,
   "metadata": {},
   "outputs": [],
   "source": [
    "train_ids = [x for x in os.listdir(TRAIN_PATH)]\n",
    "test_ids = [x for x in os.listdir(TEST_PATH)]"
   ]
  },
  {
   "cell_type": "code",
   "execution_count": 44,
   "metadata": {},
   "outputs": [
    {
     "name": "stdout",
     "output_type": "stream",
     "text": [
      "                id\ntrain_or_test     \ntest            65\ntrain          670\n"
     ]
    }
   ],
   "source": [
    "df2 = pd.DataFrame({'id': train_ids, 'train_or_test': 'train'})\n",
    "df2= df2.append(pd.DataFrame({'id': test_ids, 'train_or_test': 'test'}))\n",
    "\n",
    "print(df2.groupby(['train_or_test']).count())"
   ]
  },
  {
   "cell_type": "code",
   "execution_count": 49,
   "metadata": {
    "collapsed": true
   },
   "outputs": [
    {
     "name": "stdout",
     "output_type": "stream",
     "text": [
      "                                                   id train_or_test  \\\n0   00071198d059ba7f5914a526d124d28e6d010c92466da2...         train   \n1   003cee89357d9fe13516167fd67b609a164651b2193458...         train   \n2   00ae65c1c6631ae6f2be1a449902976e6eb8483bf6b074...         train   \n3   0121d6759c5adb290c8e828fc882f37dfaf3663ec885c6...         train   \n4   01d44a26f6680c42ba94c9bc6339228579a95d0e2695b1...         train   \n5   0280fa8f60f6bcae0f97d93c28f60be194f9309ff610dc...         train   \n6   0287e7ee5b007c91ae2bd7628d09735e70496bc6127ecb...         train   \n7   02903040e19ddf92f452907644ad3822918f54af41dd85...         train   \n8   03398329ced0c23b9ac3fac84dd53a87d9ffe4d9d10f1b...         train   \n9   03b9306f44e9b8951461623dcbd615550cdcf36ea93b20...         train   \n10  03f583ec5018739f4abb9b3b4a580ac43bd933c4337ad8...         train   \n11  0402a81e75262469925ea893b6706183832e85324f7b1e...         train   \n12  04acab7636c4cf61d288a5962f15fa456b7bde31a021e5...         train   \n13  05040e2e959c3f5632558fc9683fec88f0010026c555b4...         train   \n14  0532c64c2fd0c4d3188cc751cdfd566b1cfba3d2693587...         train   \n15  05a8f65ebd0b30d3b210f30b4d640c847c2e710d0d135e...         train   \n16  06350c7cc618be442c15706db7a68e91f313758d224de4...         train   \n17  06c779330d6d3447be21df2b9f05d1088f5b3b50dc4872...         train   \n18  072ff14c1d3245bf49ad6f1d4c71cdb18f1cb78a8e06fd...         train   \n19  07761fa39f60dc37022dbbe8d8694595fd5b77ceb2af2a...         train   \n20  077f026f4ab0f0bcc0856644d99cbf639e443ec4f067d7...         train   \n21  07fb37aafa6626608af90c1e18f6a743f29b6b233d2e42...         train   \n22  08151b19806eebd58e5acec7e138dbfbb1761f41a1ab96...         train   \n23  08275a5b1c2dfcd739e8c4888a5ee2d29f83eccfa75185...         train   \n24  08ae2741df2f5ac815c0f272a8c532b5167ee853be9b93...         train   \n25  091944f1d2611c916b98c020bd066667e33f4639159b2a...         train   \n26  094afe36759e7daffe12188ab5987581d405b06720f1d5...         train   \n27  0a7d30b252359a10fd298b638b90cb9ada3acced4e0c0e...         train   \n28  0acd2c223d300ea55d0546797713851e818e5c697d073b...         train   \n29  0b0d577159f0d6c266f360f7b8dfde46e16fa665138bf5...         train   \n..                                                ...           ...   \n35  697a05c6fe4a07c601d46da80885645ad574ea19b47ee7...          test   \n36  699f2992cd71e2e28cf45f81347ff22e76b37541ce8808...          test   \n37  78a981bd27ba0c65a9169548665a17bda9f49050d0d389...          test   \n38  7bdb668e6127b7eafc837a883f0648002bd063c736f55a...          test   \n39  7f4cbe0b36b5d09466476a7d4e01f4f976c67872d549f4...          test   \n40  8922a6ac8fd0258ec27738ca101867169b20d90a60fc84...          test   \n41  8b59819fbc92eefe45b1db95c0cc3a467ddcfc755684c7...          test   \n42  912a679e4b9b1d1a75170254fd675b8c24b664d80ad7ea...          test   \n43  9ab2d381f90b485a68b82bc07f94397a0373e3215ad209...          test   \n44  9f17aea854db13015d19b34cb2022cfdeda44133323fcd...          test   \n45  a4816cc1fb76cb3c5e481186833fc0ae9cf426a1406a26...          test   \n46  a984e7fb886aa02e29d112766d3ce26a4f78eac540ce7b...          test   \n47  ab298b962a63e4be9582513aaa84a5e270adba5fd2b16a...          test   \n48  ade080c6618cbbb0a25680cf847f312b5e19b22bfe1caf...          test   \n49  b83d1d77935b6cfd44105b54600ffc4b6bd82de57dec65...          test   \n50  bdc789019cee8ddfae20d5f769299993b4b330b2d38d12...          test   \n51  c8e79ff4ac55f4b772057de28e539727b7f4f2a3de73bf...          test   \n52  ca20076870e8fb604e61802605a9ac45419c82dd3e2340...          test   \n53  d616d323a9eeb9da1b66f8d5df671d63c092c9919cb2c0...          test   \n54  d6eb7ce7723e2f6dc13b90b41a29ded27dbd815bad633f...          test   \n55  d8d4bf68a76e4e4c5f21de7ac613451f7115a04db68615...          test   \n56  da6c593410340b19bb212b9f6d274f95b08c0fc8f2570c...          test   \n57  dab46d798d29aff2e99c23f47ed3064f5cafb1644629b0...          test   \n58  df40099c6306ca1f47fcc8a62e2fa39486d4e223177afd...          test   \n59  e17b7aedd251a016c01ef9158e6e4aa940d9f1b35942d8...          test   \n60  eea70a7948d25a9a791dbcb39228af4ea4049fe5ebdee9...          test   \n61  f0d0ab13ff53adc3c4d57e95a5f83d80b06f2cbc0bf002...          test   \n62  f5effed21f671bbf4551ecebb7fe95f3be1cf09c16a60a...          test   \n63  fac507fa4d1649e8b24c195d990f1fc3ca3633d917839e...          test   \n64  fe9adb627a6f45747c5a8223b671774791ededf9364f65...          test   \n\n                                                 path  height  width  \\\n0   D:/Projects/starik/stage1_train/00071198d059ba...     256    256   \n1   D:/Projects/starik/stage1_train/003cee89357d9f...     256    256   \n2   D:/Projects/starik/stage1_train/00ae65c1c6631a...     256    320   \n3   D:/Projects/starik/stage1_train/0121d6759c5adb...     256    320   \n4   D:/Projects/starik/stage1_train/01d44a26f6680c...     256    320   \n5   D:/Projects/starik/stage1_train/0280fa8f60f6bc...     256    256   \n6   D:/Projects/starik/stage1_train/0287e7ee5b007c...     256    256   \n7   D:/Projects/starik/stage1_train/02903040e19ddf...     360    360   \n8   D:/Projects/starik/stage1_train/03398329ced0c2...     256    256   \n9   D:/Projects/starik/stage1_train/03b9306f44e9b8...     360    360   \n10  D:/Projects/starik/stage1_train/03f583ec501873...     360    360   \n11  D:/Projects/starik/stage1_train/0402a81e752624...     260    347   \n12  D:/Projects/starik/stage1_train/04acab7636c4cf...     256    256   \n13  D:/Projects/starik/stage1_train/05040e2e959c3f...     256    256   \n14  D:/Projects/starik/stage1_train/0532c64c2fd0c4...     360    360   \n15  D:/Projects/starik/stage1_train/05a8f65ebd0b30...     256    256   \n16  D:/Projects/starik/stage1_train/06350c7cc618be...     256    256   \n17  D:/Projects/starik/stage1_train/06c779330d6d34...     360    360   \n18  D:/Projects/starik/stage1_train/072ff14c1d3245...     256    256   \n19  D:/Projects/starik/stage1_train/07761fa39f60dc...     256    256   \n20  D:/Projects/starik/stage1_train/077f026f4ab0f0...     256    256   \n21  D:/Projects/starik/stage1_train/07fb37aafa6626...     520    696   \n22  D:/Projects/starik/stage1_train/08151b19806eeb...     360    360   \n23  D:/Projects/starik/stage1_train/08275a5b1c2dfc...    1024   1024   \n24  D:/Projects/starik/stage1_train/08ae2741df2f5a...     256    256   \n25  D:/Projects/starik/stage1_train/091944f1d2611c...    1024   1024   \n26  D:/Projects/starik/stage1_train/094afe36759e7d...     256    256   \n27  D:/Projects/starik/stage1_train/0a7d30b252359a...     256    256   \n28  D:/Projects/starik/stage1_train/0acd2c223d300e...     256    256   \n29  D:/Projects/starik/stage1_train/0b0d577159f0d6...     520    696   \n..                                                ...     ...    ...   \n35  D:/Projects/starik/stage1_test/697a05c6fe4a07c...     256    256   \n36  D:/Projects/starik/stage1_test/699f2992cd71e2e...     260    347   \n37  D:/Projects/starik/stage1_test/78a981bd27ba0c6...     520    348   \n38  D:/Projects/starik/stage1_test/7bdb668e6127b7e...     512    640   \n39  D:/Projects/starik/stage1_test/7f4cbe0b36b5d09...     256    256   \n40  D:/Projects/starik/stage1_test/8922a6ac8fd0258...     512    640   \n41  D:/Projects/starik/stage1_test/8b59819fbc92eef...     520    696   \n42  D:/Projects/starik/stage1_test/912a679e4b9b1d1...     256    256   \n43  D:/Projects/starik/stage1_test/9ab2d381f90b485...     512    640   \n44  D:/Projects/starik/stage1_test/9f17aea854db130...     512    680   \n45  D:/Projects/starik/stage1_test/a4816cc1fb76cb3...     519    253   \n46  D:/Projects/starik/stage1_test/a984e7fb886aa02...     519    161   \n47  D:/Projects/starik/stage1_test/ab298b962a63e4b...     256    256   \n48  D:/Projects/starik/stage1_test/ade080c6618cbbb...     520    696   \n49  D:/Projects/starik/stage1_test/b83d1d77935b6cf...     524    348   \n50  D:/Projects/starik/stage1_test/bdc789019cee8dd...     520    696   \n51  D:/Projects/starik/stage1_test/c8e79ff4ac55f4b...     524    348   \n52  D:/Projects/starik/stage1_test/ca20076870e8fb6...     519    161   \n53  D:/Projects/starik/stage1_test/d616d323a9eeb9d...     519    162   \n54  D:/Projects/starik/stage1_test/d6eb7ce7723e2f6...     520    348   \n55  D:/Projects/starik/stage1_test/d8d4bf68a76e4e4...     256    256   \n56  D:/Projects/starik/stage1_test/da6c593410340b1...     512    680   \n57  D:/Projects/starik/stage1_test/dab46d798d29aff...     256    256   \n58  D:/Projects/starik/stage1_test/df40099c6306ca1...     260    347   \n59  D:/Projects/starik/stage1_test/e17b7aedd251a01...     256    256   \n60  D:/Projects/starik/stage1_test/eea70a7948d25a9...     519    253   \n61  D:/Projects/starik/stage1_test/f0d0ab13ff53adc...     520    696   \n62  D:/Projects/starik/stage1_test/f5effed21f671bb...     512    680   \n63  D:/Projects/starik/stage1_test/fac507fa4d1649e...     256    256   \n64  D:/Projects/starik/stage1_test/fe9adb627a6f457...     256    256   \n\n        bg_red    bg_green     bg_blue    bg_color      fg_red    fg_green  \\\n0     3.452972    3.452972    3.452972    3.452972   45.737764   45.737764   \n1     5.178046    5.178046    5.178046    5.178046   61.447798   61.447798   \n2   199.819014  193.049327  206.829639  199.899327  129.177985   71.227125   \n3   193.912356  197.166728  211.211233  200.763439  138.920985   91.876245   \n4   179.137313  159.846918  201.238295  180.074175  122.003994   80.390761   \n5    12.872100   12.872100   12.872100   12.872100   64.879478   64.879478   \n6     7.749758    7.749758    7.749758    7.749758   53.528159   53.528159   \n7     6.153681    6.153681    6.153681    6.153681   26.906597   26.906597   \n8    13.934037   13.934037   13.934037   13.934037  176.774112  176.774112   \n9     7.083441    7.083441    7.083441    7.083441   26.369746   26.369746   \n10    6.291156    6.291156    6.291156    6.291156   24.369530   24.369530   \n11   25.478225   25.478225   25.478225   25.478225  120.771073  120.771073   \n12    9.639690    9.639690    9.639690    9.639690   59.332229   59.332229   \n13   14.239125   14.239125   14.239125   14.239125   58.229134   58.229134   \n14    4.928594    4.928594    4.928594    4.928594   21.709070   21.709070   \n15   14.013477   14.013477   14.013477   14.013477  158.747087  158.747087   \n16    3.445174    3.445174    3.445174    3.445174   55.593505   55.593505   \n17    7.276951    7.276951    7.276951    7.276951   29.797053   29.797053   \n18    4.228599    4.228599    4.228599    4.228599   40.518583   40.518583   \n19   12.714679   12.714679   12.714679   12.714679  148.323077  148.323077   \n20    3.534905    3.534905    3.534905    3.534905   40.120825   40.120825   \n21   31.450368   31.450368   31.450368   31.450368   90.993700   90.993700   \n22    7.203003    7.203003    7.203003    7.203003   29.073087   29.073087   \n23  222.829477  222.829477  222.829477  222.829477  140.744685  140.744685   \n24   12.453514   12.453514   12.453514   12.453514   77.360073   77.360073   \n25  226.014459  226.014459  226.014459  226.014459  157.355404  157.355404   \n26   14.377713   14.377713   14.377713   14.377713  112.762370  112.762370   \n27    4.572981    4.572981    4.572981    4.572981   45.901196   45.901196   \n28   13.851297   13.851297   13.851297   13.851297   68.027749   68.027749   \n29   10.539950   10.539950   10.539950   10.539950   36.088608   36.088608   \n..         ...         ...         ...         ...         ...         ...   \n35   12.727586   12.727586   12.727586   12.727586  116.469413  116.469413   \n36   53.477885   53.477885   53.477885   53.477885  169.253049  169.253049   \n37   17.488381   17.488381   17.488381   17.488381   61.441418   61.441418   \n38    9.678047    9.678047    9.678047    9.678047   59.477933   59.477933   \n39    6.356560    6.356560    6.356560    6.356560   92.169487   92.169487   \n40    5.126443    5.126443    5.126443    5.126443   69.558377   69.558377   \n41   15.266370   15.266370   15.266370   15.266370  120.141407  120.141407   \n42   19.685813   19.685813   19.685813   19.685813  129.982296  129.982296   \n43    5.495404    5.495404    5.495404    5.495404   57.005702   57.005702   \n44  225.311916  224.556437  200.762357  216.876904  106.908714   88.737815   \n45   14.955779   14.955779   14.955779   14.955779   45.433171   45.433171   \n46   29.695630   29.695630   29.695630   29.695630  126.861145  126.861145   \n47    2.684310    2.684310    2.684310    2.684310   48.820870   48.820870   \n48   14.975230   14.975230   14.975230   14.975230  111.737070  111.737070   \n49  218.510556  221.357100  201.465645  213.777767  106.479583   91.473009   \n50   14.795214   14.795214   14.795214   14.795214   97.584374   97.584374   \n51  227.834122  231.561037  208.710899  222.702019  108.139276  101.680391   \n52   16.762404   16.762404   16.762404   16.762404   88.530806   88.530806   \n53   28.811053   28.811053   28.811053   28.811053  118.562478  118.562478   \n54   14.589809   14.589809   14.589809   14.589809   66.812710   66.812710   \n55   12.147284   12.147284   12.147284   12.147284  111.582245  111.582245   \n56  225.307697  224.002665  205.764281  218.358214   91.742654   65.095785   \n57    3.708906    3.708906    3.708906    3.708906   54.064662   54.064662   \n58   36.558105   36.558105   36.558105   36.558105  128.475022  128.475022   \n59    3.560516    3.560516    3.560516    3.560516   47.996540   47.996540   \n60   22.642045   22.642045   22.642045   22.642045  136.337075  136.337075   \n61   14.325413   14.325413   14.325413   14.325413  114.288518  114.288518   \n62  229.699318  228.167481  204.359711  220.742170   78.371642   56.123571   \n63   14.131821   14.131821   14.131821   14.131821  131.540167  131.540167   \n64   20.428714   20.428714   20.428714   20.428714  148.796106  148.796106   \n\n       fg_blue    fg_color  bg_color_pct  fg_color_pct  invert      shape  \n0    45.737764   45.737764      0.936401      0.063599   False  0256x0256  \n1    61.447798   61.447798      0.931747      0.068253   False  0256x0256  \n2   163.515914  121.307008      0.681165      0.318835    True  0256x0320  \n3   186.731012  139.176081      0.732996      0.267004    True  0256x0320  \n4   191.999132  131.464629      0.929736      0.070264    True  0256x0320  \n5    64.879478   64.879478      0.954422      0.045578   False  0256x0256  \n6    53.528159   53.528159      0.805191      0.194809   False  0256x0256  \n7    26.906597   26.906597      0.777778      0.222222   False  0360x0360  \n8   176.774112  176.774112      0.981964      0.018036   False  0256x0256  \n9    26.369746   26.369746      0.752917      0.247083   False  0360x0360  \n10   24.369530   24.369530      0.741350      0.258650   False  0360x0360  \n11  120.771073  120.771073      0.837076      0.162924   False  0260x0347  \n12   59.332229   59.332229      0.843338      0.156662   False  0256x0256  \n13   58.229134   58.229134      0.923218      0.076782   False  0256x0256  \n14   21.709070   21.709070      0.761381      0.238619   False  0360x0360  \n15  158.747087  158.747087      0.964645      0.035355   False  0256x0256  \n16   55.593505   55.593505      0.943619      0.056381   False  0256x0256  \n17   29.797053   29.797053      0.738727      0.261273   False  0360x0360  \n18   40.518583   40.518583      0.982346      0.017654   False  0256x0256  \n19  148.323077  148.323077      0.993057      0.006943   False  0256x0256  \n20   40.120825   40.120825      0.984467      0.015533   False  0256x0256  \n21   90.993700   90.993700      0.778528      0.221472   False  0520x0696  \n22   29.073087   29.073087      0.784630      0.215370   False  0360x0360  \n23  140.744685  140.744685      0.783126      0.216874    True  1024x1024  \n24   77.360073   77.360073      0.983261      0.016739   False  0256x0256  \n25  157.355404  157.355404      0.846719      0.153281    True  1024x1024  \n26  112.762370  112.762370      0.948502      0.051498   False  0256x0256  \n27   45.901196   45.901196      0.903015      0.096985   False  0256x0256  \n28   68.027749   68.027749      0.970306      0.029694   False  0256x0256  \n29   36.088608   36.088608      0.993452      0.006548   False  0520x0696  \n..         ...         ...           ...           ...     ...        ...  \n35  116.469413  116.469413      0.805191      0.194809   False  0256x0256  \n36  169.253049  169.253049      0.842751      0.157249   False  0260x0347  \n37   61.441418   61.441418      0.711063      0.288937   False  0520x0348  \n38   59.477933   59.477933      0.940533      0.059467   False  0512x0640  \n39   92.169487   92.169487      0.872879      0.127121   False  0256x0256  \n40   69.558377   69.558377      0.957211      0.042789   False  0512x0640  \n41  120.141407  120.141407      0.907187      0.092813   False  0520x0696  \n42  129.982296  129.982296      0.896576      0.103424   False  0256x0256  \n43   57.005702   57.005702      0.990366      0.009634   False  0512x0640  \n44  144.315768  113.320765      0.896212      0.103788    True  0512x0680  \n45   45.433171   45.433171      0.805814      0.194186   False  0519x0253  \n46  126.861145  126.861145      0.716356      0.283644   False  0519x0161  \n47   48.820870   48.820870      0.982452      0.017548   False  0256x0256  \n48  111.737070  111.737070      0.928625      0.071375   False  0520x0696  \n49  136.111897  111.354830      0.779980      0.220020    True  0524x0348  \n50   97.584374   97.584374      0.907062      0.092938   False  0520x0696  \n51  136.642849  115.487505      0.906439      0.093561    True  0524x0348  \n52   88.530806   88.530806      0.811199      0.188801   False  0519x0161  \n53  118.562478  118.562478      0.766134      0.233866   False  0519x0162  \n54   66.812710   66.812710      0.754957      0.245043   False  0520x0348  \n55  111.582245  111.582245      0.994156      0.005844   False  0256x0256  \n56  142.297565   99.712001      0.811633      0.188367    True  0512x0680  \n57   54.064662   54.064662      0.979706      0.020294   False  0256x0256  \n58  128.475022  128.475022      0.847351      0.152649   False  0260x0347  \n59   47.996540   47.996540      0.982361      0.017639   False  0256x0256  \n60  136.337075  136.337075      0.956575      0.043425   False  0519x0253  \n61  114.288518  114.288518      0.951437      0.048563   False  0520x0696  \n62  123.170216   85.888477      0.931908      0.068092    True  0512x0680  \n63  131.540167  131.540167      0.963531      0.036469   False  0256x0256  \n64  148.796106  148.796106      0.945145      0.054855   False  0256x0256  \n\n[735 rows x 17 columns]\n"
     ]
    }
   ],
   "source": [
    "df2['path'] = df2.apply(lambda x: 'D:/Projects/starik/stage1_{}/{}/images/{}.png'.format(x[1], x[0], x[0]), axis=1)\n",
    "print(df2)"
   ]
  },
  {
   "cell_type": "code",
   "execution_count": 46,
   "metadata": {},
   "outputs": [],
   "source": [
    "from sklearn.cluster import KMeans\n",
    "\n",
    "def centroid_histogram(clt):\n",
    "    numLabels = np.arange(0, len(np.unique(clt.labels_)) + 1)\n",
    "    (hist, _) = np.histogram(clt.labels_, bins=numLabels)\n",
    "\n",
    "    hist = hist.astype(\"float\")\n",
    "    hist /= hist.sum()\n",
    "\n",
    "    return hist\n"
   ]
  },
  {
   "cell_type": "code",
   "execution_count": 47,
   "metadata": {},
   "outputs": [],
   "source": [
    "def get_image_info(path, clusters=2):\n",
    "    image = cv2.imread(path)\n",
    "    height, width, _ = image.shape\n",
    "    image = cv2.cvtColor(image, cv2.COLOR_BGRA2RGB)\n",
    "    image = image.reshape((image.shape[0] * image.shape[1], 3))\n",
    "    clt = KMeans(n_clusters=clusters)\n",
    "    clt.fit(image)\n",
    "    hist = centroid_histogram(clt)\n",
    "\n",
    "    bg_idx, fg_idx = 0, clusters - 1\n",
    "    if hist[bg_idx] < hist[fg_idx]:\n",
    "        bg_idx, fg_idx = clusters - 1, 0\n",
    "\n",
    "    bg_red, bg_green, bg_blue = clt.cluster_centers_[bg_idx]\n",
    "    fg_red, fg_green, fg_blue = clt.cluster_centers_[fg_idx]\n",
    "\n",
    "    bg_color = sum(clt.cluster_centers_[bg_idx]) / 3\n",
    "    fg_color = sum(clt.cluster_centers_[fg_idx]) / 3\n",
    "    max_color_pct = hist[bg_idx]\n",
    "    min_color_pct = hist[fg_idx]\n",
    "\n",
    "    return (pd.Series([height, width,\n",
    "                       bg_red, bg_green, bg_blue, bg_color,\n",
    "                       fg_red, fg_green, fg_blue, fg_color,\n",
    "                       hist[bg_idx], hist[fg_idx],\n",
    "                       fg_color < bg_color]))"
   ]
  },
  {
   "cell_type": "code",
   "execution_count": 50,
   "metadata": {},
   "outputs": [],
   "source": [
    "df2.to_csv('conclusion.csv')"
   ]
  },
  {
   "cell_type": "code",
   "execution_count": null,
   "metadata": {},
   "outputs": [],
   "source": []
  }
 ],
 "metadata": {
  "kernelspec": {
   "display_name": "Python 2",
   "language": "python",
   "name": "python2"
  },
  "language_info": {
   "codemirror_mode": {
    "name": "ipython",
    "version": 2
   },
   "file_extension": ".py",
   "mimetype": "text/x-python",
   "name": "python",
   "nbconvert_exporter": "python",
   "pygments_lexer": "ipython2",
   "version": "2.7.6"
  }
 },
 "nbformat": 4,
 "nbformat_minor": 0
}
