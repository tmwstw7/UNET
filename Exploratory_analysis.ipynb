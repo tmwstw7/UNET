{
 "cells": [
  {
   "cell_type": "code",
   "execution_count": null,
   "metadata": {
    "collapsed": true
   },
   "outputs": [],
   "source": [
    "import pathlib\n",
    "import imageio\n",
    "import numpy as np\n",
    "\n",
    "training_paths = pathlib.Path('D:/Projects/starik/stage1_train').glob('*/images/*.png')\n",
    "training_sorted = sorted([x for x in training_paths])\n",
    "im_path = training_sorted[146]\n",
    "im = imageio.imread(str(im_path))"
   ]
  },
  {
   "cell_type": "code",
   "execution_count": 2,
   "metadata": {},
   "outputs": [
    {
     "name": "stdout",
     "output_type": "stream",
     "text": [
      "Original shape: (256, 320, 4)\n"
     ]
    },
    {
     "name": "stdout",
     "output_type": "stream",
     "text": [
      "New shape: (256, 320)\n"
     ]
    }
   ],
   "source": [
    "print('Original shape: {}'.format(im.shape))\n",
    "\n",
    "from skimage.color import rgb2gray\n",
    "im_gray = rgb2gray(im)\n",
    "print('New shape: {}'.format(im_gray.shape))"
   ]
  },
  {
   "cell_type": "code",
   "execution_count": 3,
   "metadata": {},
   "outputs": [],
   "source": [
    "import matplotlib.pyplot as plt\n",
    "\n",
    "plt.figure(figsize=(10, 4))\n",
    "\n",
    "plt.subplot(1, 2, 1)\n",
    "plt.imshow(im)\n",
    "plt.axis('off')\n",
    "plt.title('Original Image')\n",
    "\n",
    "plt.subplot(1, 2, 2)\n",
    "plt.imshow(im_gray, cmap='gray')\n",
    "plt.axis('off')\n",
    "plt.title('Grayscale')\n",
    "\n",
    "plt.tight_layout()\n",
    "plt.show()\n"
   ]
  },
  {
   "cell_type": "code",
   "execution_count": 4,
   "metadata": {},
   "outputs": [],
   "source": [
    "from skimage.filters import threshold_otsu\n",
    "\n",
    "#using Otsu method to get threshold value\n",
    "\n",
    "thresh_val = threshold_otsu(im_gray)\n",
    "mask = np.where(im_gray > thresh_val, 1, 0)\n",
    "\n",
    "if np.sum(mask == 0) < np.sum(mask == 1):\n",
    "    mask = np.where(mask, 0, 1)\n"
   ]
  },
  {
   "cell_type": "code",
   "execution_count": 5,
   "metadata": {},
   "outputs": [],
   "source": [
    "plt.figure(figsize=(10, 4))\n",
    "\n",
    "plt.subplot(1, 2, 1)\n",
    "im_pixels = im_gray.flatten()\n",
    "plt.hist(im_pixels, bins=50, color=\"purple\")\n",
    "plt.vlines(thresh_val, 0, 100000, linestyle='--')\n",
    "plt.ylim([0, 50000])\n",
    "plt.title('Histogram')\n",
    "\n",
    "plt.subplot(1, 2, 2)\n",
    "mask_for_display = np.where(mask, mask, np.nan)\n",
    "plt.imshow(im_gray, cmap='gray')\n",
    "plt.imshow(mask_for_display, cmap='autumn', alpha=0.5)\n",
    "plt.axis('off')\n",
    "plt.title('Masked')\n",
    "\n",
    "plt.show()\n"
   ]
  },
  {
   "cell_type": "code",
   "execution_count": 7,
   "metadata": {},
   "outputs": [
    {
     "name": "stdout",
     "output_type": "stream",
     "text": [
      "43 objects was found.\n"
     ]
    }
   ],
   "source": [
    "from scipy import ndimage\n",
    "labels, nlabels = ndimage.label(mask)\n",
    "\n",
    "label_arrays = []\n",
    "for label_num in range(1, nlabels+1):\n",
    "    label_mask = np.where(labels == label_num, 1, 0)\n",
    "    label_arrays.append(label_mask)\n",
    "\n",
    "print('{} objects was found.'.format(nlabels))"
   ]
  },
  {
   "cell_type": "code",
   "execution_count": 8,
   "metadata": {},
   "outputs": [],
   "source": [
    "from matplotlib.colors import ListedColormap\n",
    "\n",
    "color_map = ListedColormap(np.random.rand(256, 3))\n",
    "\n",
    "labels_for_display = np.where(labels > 0, labels, np.nan)\n",
    "plt.imshow(im_gray, cmap='gray')\n",
    "plt.imshow(labels_for_display, cmap=color_map)\n",
    "plt.axis('off')\n",
    "plt.title('Separate cells ({} nuclei)'.format(nlabels))\n",
    "plt.show()\n"
   ]
  },
  {
   "cell_type": "code",
   "execution_count": 10,
   "metadata": {},
   "outputs": [
    {
     "name": "stdout",
     "output_type": "stream",
     "text": [
      "Dropping label 12. Too small.\nDropping label 13. Too small.\nDropping label 15. Too small.\nDropping label 16. Too small.\nThere are now 39 separate components / objects detected.\n"
     ]
    }
   ],
   "source": [
    "for label_ind, label_coords in enumerate(ndimage.find_objects(labels)):\n",
    "    cell = im_gray[label_coords]\n",
    "\n",
    "    if np.product(cell.shape) < 10:\n",
    "        print('Dropping label {}. Too small.'.format(label_ind))\n",
    "        mask = np.where(labels == label_ind + 1, 0, mask)\n",
    "\n",
    "labels, nlabels = ndimage.label(mask)\n",
    "print('There are now {} separate components / objects detected.'.format(nlabels))\n"
   ]
  },
  {
   "cell_type": "code",
   "execution_count": 9,
   "metadata": {},
   "outputs": [],
   "source": [
    "fig, axes = plt.subplots(1, 6, figsize=(10, 6))\n",
    "\n",
    "for ii, obj_indices in enumerate(ndimage.find_objects(labels)[0:6]):\n",
    "    cell = im_gray[obj_indices]\n",
    "    axes[ii].imshow(cell, cmap='gray')\n",
    "    axes[ii].axis('off')\n",
    "    axes[ii].set_title('Label #{}\\nSize: {}'.format(ii + 1, cell.shape))\n",
    "\n",
    "plt.tight_layout()\n",
    "plt.show()"
   ]
  },
  {
   "cell_type": "code",
   "execution_count": 10,
   "metadata": {},
   "outputs": [
    {
     "name": "stdout",
     "output_type": "stream",
     "text": [
      "RLE Encoding for the current mask is: 30463 2 30717 4 30972 5 31227 6 31482 7 31738 7 31993 8 32249 8 32504 9 32760 9 33016 9 33272 9 33527 10 33783 10 34040 9 34296 9 34552 9 34808 9 35065 8 35321 8 35578 7 35835 6 36092 5 36350 3\n"
     ]
    }
   ],
   "source": [
    "def rle_encoding(x):\n",
    "    dots = np.where(x.T.flatten() == 1)[0]\n",
    "    run_lengths = []\n",
    "    prev = -2\n",
    "    for b in dots:\n",
    "        if (b > prev + 1): run_lengths.extend((b + 1, 0))\n",
    "        run_lengths[-1] += 1\n",
    "        prev = b\n",
    "    return \" \".join([str(i) for i in run_lengths])\n",
    "\n",
    "\n",
    "print('RLE Encoding for the current mask is: {}'.format(rle_encoding(label_mask)))\n"
   ]
  },
  {
   "cell_type": "code",
   "execution_count": 11,
   "metadata": {},
   "outputs": [],
   "source": [
    "import pandas as pd\n",
    "\n",
    "\n",
    "def analyze_image(im_path):\n",
    "    im_id = im_path.parts[-3]\n",
    "    im = imageio.imread(str(im_path))\n",
    "    im_gray = rgb2gray(im)\n",
    "\n",
    "    thresh_val = threshold_otsu(im_gray)\n",
    "    mask = np.where(im_gray > thresh_val, 1, 0)\n",
    "    if np.sum(mask == 0) < np.sum(mask == 1):\n",
    "        mask = np.where(mask, 0, 1)\n",
    "        labels, nlabels = ndimage.label(mask)\n",
    "    labels, nlabels = ndimage.label(mask)\n",
    "\n",
    "    im_df = pd.DataFrame()\n",
    "    for label_num in range(1, nlabels + 1):\n",
    "        label_mask = np.where(labels == label_num, 1, 0)\n",
    "        if label_mask.flatten().sum() > 10:\n",
    "            rle = rle_encoding(label_mask)\n",
    "            s = pd.Series({'ImageId': im_id, 'EncodedPixels': rle})\n",
    "            im_df = im_df.append(s, ignore_index=True)\n",
    "\n",
    "    return im_df\n",
    "\n",
    "\n",
    "def analyze_list_of_images(im_path_list):\n",
    "    all_df = pd.DataFrame()\n",
    "    for im_path in im_path_list:\n",
    "        im_df = analyze_image(im_path)\n",
    "        all_df = all_df.append(im_df, ignore_index=True)\n",
    "\n",
    "    return all_df\n"
   ]
  },
  {
   "cell_type": "code",
   "execution_count": 12,
   "metadata": {},
   "outputs": [],
   "source": [
    "testing = pathlib.Path('D:/Projects/starik/stage1_test').glob('*/images/*.png')\n",
    "df = analyze_list_of_images(list(testing))\n",
    "df.to_csv('RLE.csv', index=None)"
   ]
  },
  {
   "cell_type": "code",
   "execution_count": 13,
   "metadata": {},
   "outputs": [],
   "source": [
    "import cv2\n",
    "import os"
   ]
  },
  {
   "cell_type": "code",
   "execution_count": 14,
   "metadata": {},
   "outputs": [],
   "source": [
    "TRAIN_PATH = 'D:/Projects/starik/stage1_train'\n",
    "TEST_PATH = 'D:/Projects/starik/stage1_test'\n",
    "\n",
    "RANDOM_SEED = 75\n",
    "\n",
    "CONTOUR_EXTRACT_MODE = cv2.RETR_TREE\n"
   ]
  },
  {
   "cell_type": "code",
   "execution_count": 15,
   "metadata": {},
   "outputs": [],
   "source": [
    "train_ids = [x for x in os.listdir(TRAIN_PATH)]\n",
    "test_ids = [x for x in os.listdir(TEST_PATH)]"
   ]
  },
  {
   "cell_type": "code",
   "execution_count": 16,
   "metadata": {},
   "outputs": [
    {
     "name": "stdout",
     "output_type": "stream",
     "text": [
      "               count\ntrain_or_test       \ntest              65\ntrain            670\n"
     ]
    }
   ],
   "source": [
    "df2 = pd.DataFrame({'id': train_ids, 'train_or_test': 'train'})\n",
    "df2 = df2.append(pd.DataFrame({'id': test_ids, 'train_or_test': 'test'}))\n",
    "\n",
    "print(df2.groupby(['train_or_test']).count())"
   ]
  },
  {
   "cell_type": "code",
   "execution_count": 17,
   "metadata": {
    "collapsed": true
   },
   "outputs": [
    {
     "name": "stdout",
     "output_type": "stream",
     "text": [
      "                                                count train_or_test  \\\n0   00071198d059ba7f5914a526d124d28e6d010c92466da2...         train   \n1   003cee89357d9fe13516167fd67b609a164651b2193458...         train   \n2   00ae65c1c6631ae6f2be1a449902976e6eb8483bf6b074...         train   \n3   0121d6759c5adb290c8e828fc882f37dfaf3663ec885c6...         train   \n4   01d44a26f6680c42ba94c9bc6339228579a95d0e2695b1...         train   \n5   0280fa8f60f6bcae0f97d93c28f60be194f9309ff610dc...         train   \n6   0287e7ee5b007c91ae2bd7628d09735e70496bc6127ecb...         train   \n7   02903040e19ddf92f452907644ad3822918f54af41dd85...         train   \n8   03398329ced0c23b9ac3fac84dd53a87d9ffe4d9d10f1b...         train   \n9   03b9306f44e9b8951461623dcbd615550cdcf36ea93b20...         train   \n10  03f583ec5018739f4abb9b3b4a580ac43bd933c4337ad8...         train   \n11  0402a81e75262469925ea893b6706183832e85324f7b1e...         train   \n12  04acab7636c4cf61d288a5962f15fa456b7bde31a021e5...         train   \n13  05040e2e959c3f5632558fc9683fec88f0010026c555b4...         train   \n14  0532c64c2fd0c4d3188cc751cdfd566b1cfba3d2693587...         train   \n15  05a8f65ebd0b30d3b210f30b4d640c847c2e710d0d135e...         train   \n16  06350c7cc618be442c15706db7a68e91f313758d224de4...         train   \n17  06c779330d6d3447be21df2b9f05d1088f5b3b50dc4872...         train   \n18  072ff14c1d3245bf49ad6f1d4c71cdb18f1cb78a8e06fd...         train   \n19  07761fa39f60dc37022dbbe8d8694595fd5b77ceb2af2a...         train   \n20  077f026f4ab0f0bcc0856644d99cbf639e443ec4f067d7...         train   \n21  07fb37aafa6626608af90c1e18f6a743f29b6b233d2e42...         train   \n22  08151b19806eebd58e5acec7e138dbfbb1761f41a1ab96...         train   \n23  08275a5b1c2dfcd739e8c4888a5ee2d29f83eccfa75185...         train   \n24  08ae2741df2f5ac815c0f272a8c532b5167ee853be9b93...         train   \n25  091944f1d2611c916b98c020bd066667e33f4639159b2a...         train   \n26  094afe36759e7daffe12188ab5987581d405b06720f1d5...         train   \n27  0a7d30b252359a10fd298b638b90cb9ada3acced4e0c0e...         train   \n28  0acd2c223d300ea55d0546797713851e818e5c697d073b...         train   \n29  0b0d577159f0d6c266f360f7b8dfde46e16fa665138bf5...         train   \n..                                                ...           ...   \n35  697a05c6fe4a07c601d46da80885645ad574ea19b47ee7...          test   \n36  699f2992cd71e2e28cf45f81347ff22e76b37541ce8808...          test   \n37  78a981bd27ba0c65a9169548665a17bda9f49050d0d389...          test   \n38  7bdb668e6127b7eafc837a883f0648002bd063c736f55a...          test   \n39  7f4cbe0b36b5d09466476a7d4e01f4f976c67872d549f4...          test   \n40  8922a6ac8fd0258ec27738ca101867169b20d90a60fc84...          test   \n41  8b59819fbc92eefe45b1db95c0cc3a467ddcfc755684c7...          test   \n42  912a679e4b9b1d1a75170254fd675b8c24b664d80ad7ea...          test   \n43  9ab2d381f90b485a68b82bc07f94397a0373e3215ad209...          test   \n44  9f17aea854db13015d19b34cb2022cfdeda44133323fcd...          test   \n45  a4816cc1fb76cb3c5e481186833fc0ae9cf426a1406a26...          test   \n46  a984e7fb886aa02e29d112766d3ce26a4f78eac540ce7b...          test   \n47  ab298b962a63e4be9582513aaa84a5e270adba5fd2b16a...          test   \n48  ade080c6618cbbb0a25680cf847f312b5e19b22bfe1caf...          test   \n49  b83d1d77935b6cfd44105b54600ffc4b6bd82de57dec65...          test   \n50  bdc789019cee8ddfae20d5f769299993b4b330b2d38d12...          test   \n51  c8e79ff4ac55f4b772057de28e539727b7f4f2a3de73bf...          test   \n52  ca20076870e8fb604e61802605a9ac45419c82dd3e2340...          test   \n53  d616d323a9eeb9da1b66f8d5df671d63c092c9919cb2c0...          test   \n54  d6eb7ce7723e2f6dc13b90b41a29ded27dbd815bad633f...          test   \n55  d8d4bf68a76e4e4c5f21de7ac613451f7115a04db68615...          test   \n56  da6c593410340b19bb212b9f6d274f95b08c0fc8f2570c...          test   \n57  dab46d798d29aff2e99c23f47ed3064f5cafb1644629b0...          test   \n58  df40099c6306ca1f47fcc8a62e2fa39486d4e223177afd...          test   \n59  e17b7aedd251a016c01ef9158e6e4aa940d9f1b35942d8...          test   \n60  eea70a7948d25a9a791dbcb39228af4ea4049fe5ebdee9...          test   \n61  f0d0ab13ff53adc3c4d57e95a5f83d80b06f2cbc0bf002...          test   \n62  f5effed21f671bbf4551ecebb7fe95f3be1cf09c16a60a...          test   \n63  fac507fa4d1649e8b24c195d990f1fc3ca3633d917839e...          test   \n64  fe9adb627a6f45747c5a8223b671774791ededf9364f65...          test   \n\n                                                 path  \n0   D:/Projects/starik/stage1_train/00071198d059ba...  \n1   D:/Projects/starik/stage1_train/003cee89357d9f...  \n2   D:/Projects/starik/stage1_train/00ae65c1c6631a...  \n3   D:/Projects/starik/stage1_train/0121d6759c5adb...  \n4   D:/Projects/starik/stage1_train/01d44a26f6680c...  \n5   D:/Projects/starik/stage1_train/0280fa8f60f6bc...  \n6   D:/Projects/starik/stage1_train/0287e7ee5b007c...  \n7   D:/Projects/starik/stage1_train/02903040e19ddf...  \n8   D:/Projects/starik/stage1_train/03398329ced0c2...  \n9   D:/Projects/starik/stage1_train/03b9306f44e9b8...  \n10  D:/Projects/starik/stage1_train/03f583ec501873...  \n11  D:/Projects/starik/stage1_train/0402a81e752624...  \n12  D:/Projects/starik/stage1_train/04acab7636c4cf...  \n13  D:/Projects/starik/stage1_train/05040e2e959c3f...  \n14  D:/Projects/starik/stage1_train/0532c64c2fd0c4...  \n15  D:/Projects/starik/stage1_train/05a8f65ebd0b30...  \n16  D:/Projects/starik/stage1_train/06350c7cc618be...  \n17  D:/Projects/starik/stage1_train/06c779330d6d34...  \n18  D:/Projects/starik/stage1_train/072ff14c1d3245...  \n19  D:/Projects/starik/stage1_train/07761fa39f60dc...  \n20  D:/Projects/starik/stage1_train/077f026f4ab0f0...  \n21  D:/Projects/starik/stage1_train/07fb37aafa6626...  \n22  D:/Projects/starik/stage1_train/08151b19806eeb...  \n23  D:/Projects/starik/stage1_train/08275a5b1c2dfc...  \n24  D:/Projects/starik/stage1_train/08ae2741df2f5a...  \n25  D:/Projects/starik/stage1_train/091944f1d2611c...  \n26  D:/Projects/starik/stage1_train/094afe36759e7d...  \n27  D:/Projects/starik/stage1_train/0a7d30b252359a...  \n28  D:/Projects/starik/stage1_train/0acd2c223d300e...  \n29  D:/Projects/starik/stage1_train/0b0d577159f0d6...  \n..                                                ...  \n35  D:/Projects/starik/stage1_test/697a05c6fe4a07c...  \n36  D:/Projects/starik/stage1_test/699f2992cd71e2e...  \n37  D:/Projects/starik/stage1_test/78a981bd27ba0c6...  \n38  D:/Projects/starik/stage1_test/7bdb668e6127b7e...  \n39  D:/Projects/starik/stage1_test/7f4cbe0b36b5d09...  \n40  D:/Projects/starik/stage1_test/8922a6ac8fd0258...  \n41  D:/Projects/starik/stage1_test/8b59819fbc92eef...  \n42  D:/Projects/starik/stage1_test/912a679e4b9b1d1...  \n43  D:/Projects/starik/stage1_test/9ab2d381f90b485...  \n44  D:/Projects/starik/stage1_test/9f17aea854db130...  \n45  D:/Projects/starik/stage1_test/a4816cc1fb76cb3...  \n46  D:/Projects/starik/stage1_test/a984e7fb886aa02...  \n47  D:/Projects/starik/stage1_test/ab298b962a63e4b...  \n48  D:/Projects/starik/stage1_test/ade080c6618cbbb...  \n49  D:/Projects/starik/stage1_test/b83d1d77935b6cf...  \n50  D:/Projects/starik/stage1_test/bdc789019cee8dd...  \n51  D:/Projects/starik/stage1_test/c8e79ff4ac55f4b...  \n52  D:/Projects/starik/stage1_test/ca20076870e8fb6...  \n53  D:/Projects/starik/stage1_test/d616d323a9eeb9d...  \n54  D:/Projects/starik/stage1_test/d6eb7ce7723e2f6...  \n55  D:/Projects/starik/stage1_test/d8d4bf68a76e4e4...  \n56  D:/Projects/starik/stage1_test/da6c593410340b1...  \n57  D:/Projects/starik/stage1_test/dab46d798d29aff...  \n58  D:/Projects/starik/stage1_test/df40099c6306ca1...  \n59  D:/Projects/starik/stage1_test/e17b7aedd251a01...  \n60  D:/Projects/starik/stage1_test/eea70a7948d25a9...  \n61  D:/Projects/starik/stage1_test/f0d0ab13ff53adc...  \n62  D:/Projects/starik/stage1_test/f5effed21f671bb...  \n63  D:/Projects/starik/stage1_test/fac507fa4d1649e...  \n64  D:/Projects/starik/stage1_test/fe9adb627a6f457...  \n\n[735 rows x 3 columns]\n"
     ]
    }
   ],
   "source": [
    "df2['path'] = df2.apply(lambda x: 'D:/Projects/starik/stage1_{}/{}/images/{}.png'.format(x[1], x[0], x[0]), axis=1)\n",
    "print(df2)"
   ]
  },
  {
   "cell_type": "code",
   "execution_count": 18,
   "metadata": {},
   "outputs": [],
   "source": [
    "from sklearn.cluster import KMeans\n",
    "\n",
    "\n",
    "def centroid_histogram(clt):\n",
    "    numLabels = np.arange(0, len(np.unique(clt.labels_)) + 1)\n",
    "    (hist, _) = np.histogram(clt.labels_, bins=numLabels)\n",
    "\n",
    "    hist = hist.astype(\"float\")\n",
    "    hist /= hist.sum()\n",
    "\n",
    "    return hist\n"
   ]
  },
  {
   "cell_type": "code",
   "execution_count": 19,
   "metadata": {},
   "outputs": [],
   "source": [
    "def get_image_info(path, clusters=2):\n",
    "    image = cv2.imread(path)\n",
    "    height, width, _ = image.shape\n",
    "    image = cv2.cvtColor(image, cv2.COLOR_BGRA2RGB)\n",
    "    image = image.reshape((image.shape[0] * image.shape[1], 3))\n",
    "    clt = KMeans(n_clusters=clusters)\n",
    "    clt.fit(image)\n",
    "    hist = centroid_histogram(clt)\n",
    "\n",
    "    bg_idx, fg_idx = 0, clusters - 1\n",
    "    if hist[bg_idx] < hist[fg_idx]:\n",
    "        bg_idx, fg_idx = clusters - 1, 0\n",
    "\n",
    "    bg_red, bg_green, bg_blue = clt.cluster_centers_[bg_idx]\n",
    "    fg_red, fg_green, fg_blue = clt.cluster_centers_[fg_idx]\n",
    "\n",
    "    bg_color = sum(clt.cluster_centers_[bg_idx]) / 3\n",
    "    fg_color = sum(clt.cluster_centers_[fg_idx]) / 3\n",
    "    max_color_pct = hist[bg_idx]\n",
    "    min_color_pct = hist[fg_idx]\n",
    "\n",
    "    return (pd.Series([height, width,\n",
    "                       bg_red, bg_green, bg_blue, bg_color,\n",
    "                       fg_red, fg_green, fg_blue, fg_color,\n",
    "                       hist[bg_idx], hist[fg_idx],\n",
    "                       fg_color < bg_color]))"
   ]
  },
  {
   "cell_type": "code",
   "execution_count": 20,
   "metadata": {},
   "outputs": [],
   "source": [
    "names = ['height', 'width',\n",
    "         'bg_red', 'bg_green', 'bg_blue', 'bg_color',\n",
    "         'fg_red', 'fg_green', 'fg_blue', 'fg_color',\n",
    "         'bg_color_pct', 'fg_color_pct', 'invert']\n",
    "\n",
    "df2[names] = df2['path'].apply(lambda x: get_image_info(x))\n",
    "df2['shape'] = df2[['height', 'width']].apply(lambda x: '{:04d}x{:04d}'.format(x[0], x[1]), axis=1)\n"
   ]
  },
  {
   "cell_type": "code",
   "execution_count": 21,
   "metadata": {},
   "outputs": [],
   "source": [
    "df2.to_csv('conclusion.csv')"
   ]
  },
  {
   "cell_type": "code",
   "execution_count": null,
   "metadata": {},
   "outputs": [],
   "source": []
  }
 ],
 "metadata": {
  "kernelspec": {
   "display_name": "Python 2",
   "language": "python",
   "name": "python2"
  },
  "language_info": {
   "codemirror_mode": {
    "name": "ipython",
    "version": 2
   },
   "file_extension": ".py",
   "mimetype": "text/x-python",
   "name": "python",
   "nbconvert_exporter": "python",
   "pygments_lexer": "ipython2",
   "version": "2.7.6"
  }
 },
 "nbformat": 4,
 "nbformat_minor": 0
}
